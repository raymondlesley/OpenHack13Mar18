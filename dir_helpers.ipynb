{
 "cells": [
  {
   "cell_type": "code",
   "execution_count": null,
   "metadata": {
    "collapsed": true
   },
   "outputs": [],
   "source": [
    "from pathlib import Path\n",
    "'''\n",
    "p = Path('gear_images')\n",
    "#[x for x in p.iterdir() if x.is_dir()]\n",
    "for dir in p.iterdir():\n",
    "    print(dir)\n",
    "    if (dir.is_dir):\n",
    "        for file in dir.iterdir():\n",
    "            print(file)\n",
    "'''\n",
    "\n",
    "def loadDirs(directory):\n",
    "    p = Path(directory)\n",
    "    # print(\"p=\", p)\n",
    "    dirs = [p]\n",
    "\n",
    "    for f in p.iterdir():\n",
    "        # print(f)\n",
    "        if (f.is_dir()):\n",
    "            # print(f, \"dir\")t\n",
    "            dirs.append(f)\n",
    "            # dirs.append(loadDirs(f))\n",
    "\n",
    "    return dirs\n",
    "\n",
    "def loadImages(directory):\n",
    "    dir = Path(directory)\n",
    "    images = []\n",
    "    for f in dir.iterdir():\n",
    "        if (f.is_file()):\n",
    "            images.append(f)\n",
    "    return images\n",
    "\n",
    "def loadImagesRecursive(directory):\n",
    "    dirs = loadDirs(directory)\n",
    "    # print(dirs)\n",
    "    images = []\n",
    "    \n",
    "    for d in dirs:\n",
    "        print(\"looking in\", d)\n",
    "        if d.is_dir():\n",
    "            for f in d.iterdir():\n",
    "                if (f.is_file()):\n",
    "                    print(f, \"is a file\")\n",
    "                    images.append(f)\n",
    "            print(\"done with\", d)\n",
    "\n",
    "    return images\n"
   ]
  }
 ],
 "metadata": {
  "kernelspec": {
   "display_name": "Python 3",
   "language": "python",
   "name": "python3"
  },
  "language_info": {
   "codemirror_mode": {
    "name": "ipython",
    "version": 3
   },
   "file_extension": ".py",
   "mimetype": "text/x-python",
   "name": "python",
   "nbconvert_exporter": "python",
   "pygments_lexer": "ipython3",
   "version": "3.5.2"
  }
 },
 "nbformat": 4,
 "nbformat_minor": 2
}
